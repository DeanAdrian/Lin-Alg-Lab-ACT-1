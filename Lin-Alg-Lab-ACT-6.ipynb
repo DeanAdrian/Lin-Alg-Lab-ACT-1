{
 "cells": [
  {
   "cell_type": "markdown",
   "metadata": {},
   "source": [
    "# Linear Algebra for CpE\n",
    "# Laboratory 6: Matrices\n",
    "\n",
    "###### Coded and submitted by:\n",
    "\n",
    "###### Estocapio, Dean Adrian N.\n",
    "\n",
    "##### 58011"
   ]
  },
  {
   "cell_type": "code",
   "execution_count": 2,
   "metadata": {},
   "outputs": [],
   "source": [
    "import numpy as np\n",
    "import matplotlib.pyplot as plt\n",
    "import scipy.linalg as la\n",
    "%matplotlib inline"
   ]
  },
  {
   "cell_type": "markdown",
   "metadata": {},
   "source": [
    "## Activity\n",
    "\n",
    "### Task 1"
   ]
  },
  {
   "cell_type": "code",
   "execution_count": 124,
   "metadata": {},
   "outputs": [],
   "source": [
    "def mat_desc(matrix):\n",
    "    if matrix.size > 0:\n",
    "        print(\"The matrix is not null\\n\")\n",
    "        print(\"The given matrix is:\\n\",matrix)\n",
    "        print(\"\\nThe shape of the matrix is:\",matrix.shape)\n",
    "        print(\"The size of the matrix is:\", matrix.size)\n",
    "        print(\"The rank of the matrix is:\",matrix.ndim)\n",
    "        \n",
    "        if matrix.shape[0] == matrix.shape[1]: \n",
    "            print(\"The given matrix is a square\")\n",
    "            if (matrix==np.eye(matrix.shape[0])).all():\n",
    "                print(\"The given matrix is an Identity matrix\")\n",
    "            elif np.count_nonzero(matrix) == 0:\n",
    "                print(\"The given matrix is a zeros matrix\")\n",
    "            elif np.all(matrix == 1):\n",
    "                print(\"The given matrix is a ones matrix\")\n",
    "            else:\n",
    "                print(\"The given matrix is neither a zeros, identity, or ones\")\n",
    "        else:\n",
    "            print(\"The given matrix is not a square\")\n",
    "            if np.count_nonzero(matrix) == 0:\n",
    "                print(\"The given matrix is a zeros matrix\")\n",
    "            elif np.all(matrix == 1):\n",
    "                print(\"The given matrix is a ones matrix\")\n",
    "            else:\n",
    "                print(\"The given matrix is neither a zeros, identity, or ones\")\n",
    "\n",
    "    else:\n",
    "        print(\"The matrix is empty\")\n",
    "    print(\"=================================================\")"
   ]
  },
  {
   "cell_type": "code",
   "execution_count": 125,
   "metadata": {},
   "outputs": [],
   "source": [
    "A = np.array([\n",
    "    [1,1,1],\n",
    "    [1,1,1],\n",
    "    [1,1,1]\n",
    "])\n",
    "B = np.array([\n",
    "    [0,0,0],\n",
    "    [0,0,0],\n",
    "    [0,0,0]\n",
    "])\n",
    "C = np.array([\n",
    "    [1,0,0],\n",
    "    [0,1,0],\n",
    "    [0,0,1]\n",
    "])\n",
    "D = np.array([\n",
    "    [1,5,0],\n",
    "    [0,4,9],\n",
    "    [4,5,6]\n",
    "])\n",
    "E = np.array([\n",
    "    [5,5,2],\n",
    "    [6,5,2],\n",
    "    [2,6,1],\n",
    "    [1,8,4]\n",
    "])"
   ]
  },
  {
   "cell_type": "code",
   "execution_count": 126,
   "metadata": {},
   "outputs": [
    {
     "name": "stdout",
     "output_type": "stream",
     "text": [
      "The matrix is not null\n",
      "\n",
      "The given matrix is:\n",
      " [[1 1 1]\n",
      " [1 1 1]\n",
      " [1 1 1]]\n",
      "\n",
      "The shape of the matrix is: (3, 3)\n",
      "The size of the matrix is: 9\n",
      "The rank of the matrix is: 2\n",
      "The given matrix is a square\n",
      "The given matrix is a ones matrix\n",
      "=================================================\n",
      "The matrix is not null\n",
      "\n",
      "The given matrix is:\n",
      " [[0 0 0]\n",
      " [0 0 0]\n",
      " [0 0 0]]\n",
      "\n",
      "The shape of the matrix is: (3, 3)\n",
      "The size of the matrix is: 9\n",
      "The rank of the matrix is: 2\n",
      "The given matrix is a square\n",
      "The given matrix is a zeros matrix\n",
      "=================================================\n",
      "The matrix is not null\n",
      "\n",
      "The given matrix is:\n",
      " [[1 0 0]\n",
      " [0 1 0]\n",
      " [0 0 1]]\n",
      "\n",
      "The shape of the matrix is: (3, 3)\n",
      "The size of the matrix is: 9\n",
      "The rank of the matrix is: 2\n",
      "The given matrix is a square\n",
      "The given matrix is an Identity matrix\n",
      "=================================================\n",
      "The matrix is not null\n",
      "\n",
      "The given matrix is:\n",
      " [[1 5 0]\n",
      " [0 4 9]\n",
      " [4 5 6]]\n",
      "\n",
      "The shape of the matrix is: (3, 3)\n",
      "The size of the matrix is: 9\n",
      "The rank of the matrix is: 2\n",
      "The given matrix is a square\n",
      "The given matrix is neither a zeros, identity, or ones\n",
      "=================================================\n",
      "The matrix is not null\n",
      "\n",
      "The given matrix is:\n",
      " [[5 5 2]\n",
      " [6 5 2]\n",
      " [2 6 1]\n",
      " [1 8 4]]\n",
      "\n",
      "The shape of the matrix is: (4, 3)\n",
      "The size of the matrix is: 12\n",
      "The rank of the matrix is: 2\n",
      "The given matrix is not a square\n",
      "The given matrix is neither a zeros, identity, or ones\n",
      "=================================================\n"
     ]
    }
   ],
   "source": [
    "mat_desc(A)\n",
    "mat_desc(B)\n",
    "mat_desc(C)\n",
    "mat_desc(D)\n",
    "mat_desc(E)"
   ]
  },
  {
   "cell_type": "code",
   "execution_count": 10,
   "metadata": {},
   "outputs": [],
   "source": [
    "def mat_operations(A,B):\n",
    "    if A.shape == B.shape:\n",
    "        print(\"The sum of the two is:\\n\", A+B)\n",
    "        print(\"The difference of the two is:\\n\", A-B)\n",
    "        print(\"The product of the two is:\\n\", A*B)\n",
    "        print(\"The quotient of the two is:\\n\", A/B)\n",
    "    else:\n",
    "        print(\"The two given are unequal, and are not viable for operations\")\n",
    "    print(\"=================================================\")\n",
    "        \n"
   ]
  },
  {
   "cell_type": "code",
   "execution_count": null,
   "metadata": {},
   "outputs": [],
   "source": [
    "A = np.array([\n",
    "    [1,1,1],\n",
    "    [1,1,1],\n",
    "    [1,1,1]\n",
    "])\n",
    "B = np.array([\n",
    "    [5,5,2],\n",
    "    [6,5,2],\n",
    "    [2,6,1]\n",
    "])\n",
    "\n",
    "mat_operations(A,B)"
   ]
  }
 ],
 "metadata": {
  "kernelspec": {
   "display_name": "Python 3",
   "language": "python",
   "name": "python3"
  },
  "language_info": {
   "codemirror_mode": {
    "name": "ipython",
    "version": 3
   },
   "file_extension": ".py",
   "mimetype": "text/x-python",
   "name": "python",
   "nbconvert_exporter": "python",
   "pygments_lexer": "ipython3",
   "version": "3.8.3"
  }
 },
 "nbformat": 4,
 "nbformat_minor": 4
}

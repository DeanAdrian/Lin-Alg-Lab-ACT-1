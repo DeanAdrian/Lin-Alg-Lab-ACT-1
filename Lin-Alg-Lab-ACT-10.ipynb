{
 "cells": [
  {
   "cell_type": "markdown",
   "metadata": {},
   "source": [
    "# Linear Algebra for CpE\n",
    "# Laboratory 10: Linear Transformations\n",
    "\n",
    "###### Coded and submitted by:\n",
    "\n",
    "###### Estocapio, Dean Adrian N.\n",
    "\n",
    "##### 58011"
   ]
  },
  {
   "cell_type": "code",
   "execution_count": 35,
   "metadata": {},
   "outputs": [],
   "source": [
    "import numpy as np\n",
    "import matplotlib.pyplot as plt\n",
    "%matplotlib inline"
   ]
  },
  {
   "cell_type": "markdown",
   "metadata": {},
   "source": [
    "#### Given Function for Linear Transformation"
   ]
  },
  {
   "cell_type": "code",
   "execution_count": 36,
   "metadata": {},
   "outputs": [],
   "source": [
    "def plot_quiv(x,t_mat=np.eye(2)):\n",
    "    x_prime = x @ t_mat\n",
    "    size= (2,2)\n",
    "    plt.figure(figsize=(4,4))\n",
    "\n",
    "    plt.xlim(-size[0],size[0])\n",
    "    plt.ylim(-size[1],size[1])\n",
    "    plt.xticks(np.arange((-size[0]), size[0]+1, 1.0))\n",
    "    plt.yticks(np.arange((-size[1]), size[1]+1, 1.0))\n",
    "\n",
    "\n",
    "    plt.quiver([0,0],[0,0], x_prime[0,:], x_prime[1,:], \n",
    "               angles='xy', scale_units='xy',scale=1, \n",
    "               color=['red','blue'])## use column spaces\n",
    "    plt.grid()\n",
    "    plt.show()"
   ]
  },
  {
   "cell_type": "markdown",
   "metadata": {},
   "source": [
    "#### Arrays"
   ]
  },
  {
   "cell_type": "code",
   "execution_count": 37,
   "metadata": {},
   "outputs": [],
   "source": [
    "A = np.array([\n",
    "    [1, 0],\n",
    "    [0, 1]\n",
    "])\n",
    "t_mat = np.array([\n",
    "    [-1,0],\n",
    "    [0,-1]\n",
    "])\n",
    "shear = np.array([\n",
    "    [1.5,0],\n",
    "    [1.5,1.5]\n",
    "])"
   ]
  },
  {
   "cell_type": "code",
   "execution_count": 38,
   "metadata": {
    "scrolled": false
   },
   "outputs": [
    {
     "name": "stdout",
     "output_type": "stream",
     "text": [
      "Normal Array\n"
     ]
    },
    {
     "data": {
      "image/png": "[encoded data removed]",
      "text/plain": [
       "<Figure size 288x288 with 1 Axes>"
      ]
     },
     "metadata": {
      "needs_background": "light"
     },
     "output_type": "display_data"
    },
    {
     "name": "stdout",
     "output_type": "stream",
     "text": [
      "Linear Transformation (Repositioning)\n"
     ]
    },
    {
     "data": {
      "image/png": "[encoded data removed]",
      "text/plain": [
       "<Figure size 288x288 with 1 Axes>"
      ]
     },
     "metadata": {
      "needs_background": "light"
     },
     "output_type": "display_data"
    },
    {
     "name": "stdout",
     "output_type": "stream",
     "text": [
      "Linear Transformation (Shearing)\n"
     ]
    },
    {
     "data": {
      "image/png": "[encoded data removed]",
      "text/plain": [
       "<Figure size 288x288 with 1 Axes>"
      ]
     },
     "metadata": {
      "needs_background": "light"
     },
     "output_type": "display_data"
    }
   ],
   "source": [
    "print(\"Normal Array\")\n",
    "plot_quiv(A)\n",
    "print(\"Linear Transformation (Repositioning)\")\n",
    "plot_quiv(A, t_mat)\n",
    "print(\"Linear Transformation (Shearing)\")\n",
    "plot_quiv(A, shear)"
   ]
  },
  {
   "cell_type": "code",
   "execution_count": 43,
   "metadata": {},
   "outputs": [],
   "source": [
    "def plot_scatter(s,t_mat=np.eye(2)):\n",
    "    s_prime = s @ t_mat\n",
    "    size= (4,4)\n",
    "    plt.figure(figsize=(4,4))\n",
    "    arange = np.arange(0,3,.5)  \n",
    "    \n",
    "    plt.xlim(-size[0],size[0])\n",
    "    plt.ylim(-size[1],size[1])\n",
    "    plt.xticks(np.arange((-size[0]), size[0]+1, 1.0))\n",
    "    plt.yticks(np.arange((-size[1]), size[1]+1, 1.0))\n",
    "    \n",
    "    plt.scatter(arange*s_prime[0,0],arange*s_prime[0,1], color = 'red')  \n",
    "    plt.scatter(arange*s_prime[1,0],arange*s_prime[1,1], color = 'blue')  \n",
    "    \n",
    "    plt.grid()\n",
    "    plt.show()"
   ]
  },
  {
   "cell_type": "code",
   "execution_count": 44,
   "metadata": {},
   "outputs": [
    {
     "name": "stdout",
     "output_type": "stream",
     "text": [
      "Normal Scatterplot\n"
     ]
    },
    {
     "data": {
      "image/png": "[encoded data removed]",
      "text/plain": [
       "<Figure size 288x288 with 1 Axes>"
      ]
     },
     "metadata": {
      "needs_background": "light"
     },
     "output_type": "display_data"
    },
    {
     "name": "stdout",
     "output_type": "stream",
     "text": [
      "Linear Transformation (Repositioning)\n"
     ]
    },
    {
     "data": {
      "image/png": "[encoded data removed]",
      "text/plain": [
       "<Figure size 288x288 with 1 Axes>"
      ]
     },
     "metadata": {
      "needs_background": "light"
     },
     "output_type": "display_data"
    },
    {
     "name": "stdout",
     "output_type": "stream",
     "text": [
      "Linear Transformation (Shearing)\n"
     ]
    },
    {
     "data": {
      "image/png": "[encoded data removed]",
      "text/plain": [
       "<Figure size 288x288 with 1 Axes>"
      ]
     },
     "metadata": {
      "needs_background": "light"
     },
     "output_type": "display_data"
    }
   ],
   "source": [
    "print(\"Normal Scatterplot\")\n",
    "plot_scatter(A)\n",
    "print(\"Linear Transformation (Repositioning)\")\n",
    "plot_scatter(A, t_mat)\n",
    "print(\"Linear Transformation (Shearing)\")\n",
    "plot_scatter(A,shear)"
   ]
  },
  {
   "cell_type": "code",
   "execution_count": null,
   "metadata": {},
   "outputs": [],
   "source": []
  }
 ],
 "metadata": {
  "kernelspec": {
   "display_name": "Python 3",
   "language": "python",
   "name": "python3"
  },
  "language_info": {
   "codemirror_mode": {
    "name": "ipython",
    "version": 3
   },
   "file_extension": ".py",
   "mimetype": "text/x-python",
   "name": "python",
   "nbconvert_exporter": "python",
   "pygments_lexer": "ipython3",
   "version": "3.8.3"
  }
 },
 "nbformat": 4,
 "nbformat_minor": 4
}

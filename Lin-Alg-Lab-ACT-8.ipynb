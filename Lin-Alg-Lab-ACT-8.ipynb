{
 "cells": [
  {
   "cell_type": "markdown",
   "metadata": {},
   "source": [
    "# Linear Algebra for CpE\n",
    "# Laboratory 8: System of Linear Equations\n",
    "\n",
    "###### Coded and submitted by:\n",
    "\n",
    "###### Estocapio, Dean Adrian N.\n",
    "\n",
    "##### 58011"
   ]
  },
  {
   "cell_type": "code",
   "execution_count": 49,
   "metadata": {},
   "outputs": [],
   "source": [
    "import numpy as np\n",
    "\n",
    "%matplotlib inline"
   ]
  },
  {
   "cell_type": "markdown",
   "metadata": {},
   "source": [
    "### Word Problem\n",
    "\n",
    "A fair is in town and they are attracting a lot of people. The fair charges an entrance fee for each individual as an admission fee. They are charging  Diferrent prices for kids, teens, and adults. on the first day they had tallied 30 kids, 40 teens, and 50 adults had come in and made a total revenue of ₱5600, on the second day they had 25 kids, 35 teens, and 30 adults and made ₱4100. and on the third day, they had 35 kids, 30 teens, and 45 adults, gaining ₱5050 in revenue.\n",
    "\n",
    "Using the given data, How much are they charging for the admission fee of each kid, teen, and adult."
   ]
  },
  {
   "cell_type": "markdown",
   "metadata": {},
   "source": [
    "$$30x + 40y + 50z = 5600\n",
    "\\\\25x + 35y + 30z = 4100\n",
    "\\\\35x + 30y - 45z = 5050 $$"
   ]
  },
  {
   "cell_type": "code",
   "execution_count": 50,
   "metadata": {},
   "outputs": [],
   "source": [
    "admission = np.array([\n",
    "    [30, 40, 50],\n",
    "    [25, 35, 30],\n",
    "    [35, 30, 45]\n",
    "])\n",
    "revenue = np.array([\n",
    "    [5600],\n",
    "    [4100],\n",
    "    [5050]\n",
    "])"
   ]
  },
  {
   "cell_type": "code",
   "execution_count": 54,
   "metadata": {},
   "outputs": [
    {
     "name": "stdout",
     "output_type": "stream",
     "text": [
      "The fair is charging ₱35.00 for each kid\n",
      "The fair is charging ₱45.00 for each teen\n",
      "The fair is charging ₱55.00 for each adult\n"
     ]
    },
    {
     "data": {
      "text/plain": [
       "(3, 1)"
      ]
     },
     "execution_count": 54,
     "metadata": {},
     "output_type": "execute_result"
    }
   ],
   "source": [
    "ticket = np.linalg.inv(admission) @ revenue \n",
    "print('The fair is charging ₱{:.2f} for each kid'.format(float(ticket[0])))\n",
    "print('The fair is charging ₱{:.2f} for each teen'.format(float(ticket[1])))\n",
    "print('The fair is charging ₱{:.2f} for each adult'.format(float(ticket[2])))\n",
    "ticket.shape"
   ]
  },
  {
   "cell_type": "code",
   "execution_count": 52,
   "metadata": {},
   "outputs": [
    {
     "name": "stdout",
     "output_type": "stream",
     "text": [
      "[[35.]\n",
      " [45.]\n",
      " [55.]]\n"
     ]
    }
   ],
   "source": [
    "solve = np.linalg.solve(admission, revenue)\n",
    "print(solve)"
   ]
  },
  {
   "cell_type": "code",
   "execution_count": null,
   "metadata": {},
   "outputs": [],
   "source": []
  }
 ],
 "metadata": {
  "kernelspec": {
   "display_name": "Python 3",
   "language": "python",
   "name": "python3"
  },
  "language_info": {
   "codemirror_mode": {
    "name": "ipython",
    "version": 3
   },
   "file_extension": ".py",
   "mimetype": "text/x-python",
   "name": "python",
   "nbconvert_exporter": "python",
   "pygments_lexer": "ipython3",
   "version": "3.8.3"
  }
 },
 "nbformat": 4,
 "nbformat_minor": 4
}

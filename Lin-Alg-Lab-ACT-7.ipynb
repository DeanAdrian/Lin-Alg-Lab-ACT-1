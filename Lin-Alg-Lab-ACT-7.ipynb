{
 "cells": [
  {
   "cell_type": "code",
   "execution_count": 1,
   "metadata": {},
   "outputs": [],
   "source": [
    "import numpy as np\n",
    "import matplotlib.pyplot as plt\n",
    "%matplotlib inline"
   ]
  },
  {
   "cell_type": "markdown",
   "metadata": {},
   "source": [
    "#### The Six Properties of Matrix Multiplication\n",
    "The commutative property of multiplication does not hold\t$$AB\\neq BA$$\n",
    "Associative property of multiplication\t$$(AB)C=A(BC)$$\n",
    "Distributive properties\t$$A(B+C)=AB+AC\\\\(B+C)A=BA+CA$$\n",
    "Multiplicative identity property\t$$IA=A\\\\AI=A$$\n",
    "Multiplicative property of zero\t$$OA=O\\\\AO=O$$\n",
    "Dimension property\tThe product of an $$mxn$$ matrix and an $$n×k$$ is an $$mxk$$"
   ]
  },
  {
   "cell_type": "code",
   "execution_count": 2,
   "metadata": {},
   "outputs": [],
   "source": [
    "A = np.array([\n",
    "    [3, 4, 5],\n",
    "    [2, 3, 3],\n",
    "    [3, 3, 4]\n",
    "])\n",
    "B = np.array([\n",
    "    [6, 8, 1],\n",
    "    [5, 9, 2],\n",
    "    [5, 2, 3]\n",
    "])\n",
    "C = np.array([\n",
    "    [4, 9, 4],\n",
    "    [3, 1, 6],\n",
    "    [2, 5, 2]\n",
    "])\n",
    "D = np.array([\n",
    "    [4, 9, 3,6],\n",
    "    [3, 4, 1,4],\n",
    "    [8, 3, 3,2]\n",
    "])\n",
    "E = np.array([\n",
    "    [4, 2, 1],\n",
    "    [1, 9, 6],\n",
    "    [2, 2, 2],\n",
    "    [3, 4, 5]\n",
    "])\n",
    "I = np.identity(3)\n",
    "O = np.zeros([3,3])"
   ]
  },
  {
   "cell_type": "markdown",
   "metadata": {},
   "source": [
    "#### 1.) The commutative property of multiplication does not hold"
   ]
  },
  {
   "cell_type": "code",
   "execution_count": 3,
   "metadata": {},
   "outputs": [
    {
     "name": "stdout",
     "output_type": "stream",
     "text": [
      "Result of AB is:\n",
      " [[63 70 26]\n",
      " [42 49 17]\n",
      " [53 59 21]]\n",
      "Result of BA is:\n",
      " [[37 51 58]\n",
      " [39 53 60]\n",
      " [28 35 43]]\n",
      "Equality is: False\n"
     ]
    }
   ],
   "source": [
    "First = A@B\n",
    "Second = B@A\n",
    "print(\"Result of AB is:\\n\",First)\n",
    "print(\"Result of BA is:\\n\",Second)\n",
    "print(\"Equality is:\", np.array_equal(First,Second))"
   ]
  },
  {
   "cell_type": "markdown",
   "metadata": {},
   "source": [
    "#### 2.) Associative property of multiplication"
   ]
  },
  {
   "cell_type": "code",
   "execution_count": 4,
   "metadata": {},
   "outputs": [
    {
     "name": "stdout",
     "output_type": "stream",
     "text": [
      "Result of (AB)C is:\n",
      " [[514 767 724]\n",
      " [349 512 496]\n",
      " [431 641 608]]\n",
      "Result of A(BC) is:\n",
      " [[514 767 724]\n",
      " [349 512 496]\n",
      " [431 641 608]]\n",
      "Equality is: True\n"
     ]
    }
   ],
   "source": [
    "FirstAsso  = (A@B)@C\n",
    "SecondAsso = 𝐴@(𝐵@𝐶)\n",
    "print(\"Result of (AB)C is:\\n\",FirstAsso)\n",
    "print(\"Result of A(BC) is:\\n\",SecondAsso)\n",
    "print(\"Equality is:\", np.array_equal(FirstAsso,SecondAsso))"
   ]
  },
  {
   "cell_type": "markdown",
   "metadata": {},
   "source": [
    "#### 3.) Distributive properties"
   ]
  },
  {
   "cell_type": "code",
   "execution_count": 5,
   "metadata": {},
   "outputs": [
    {
     "name": "stdout",
     "output_type": "stream",
     "text": [
      "Result of A(B+C) is:\n",
      " [[ 97 126  72]\n",
      " [ 65  85  49]\n",
      " [ 82 109  59]]\n",
      "Result of (AB)+(AC) is:\n",
      " [[ 97 126  72]\n",
      " [ 65  85  49]\n",
      " [ 82 109  59]]\n",
      "Equality is: True\n",
      "\n",
      "\n",
      "Result of (B+C)A is:\n",
      " [[ 79 106 121]\n",
      " [ 68  86 102]\n",
      " [ 50  64  76]]\n",
      "Result of (BA)+(CA) is:\n",
      " [[ 79 106 121]\n",
      " [ 68  86 102]\n",
      " [ 50  64  76]]\n",
      "Equality is: True\n"
     ]
    }
   ],
   "source": [
    "FirstDistri = A@(B+C)\n",
    "SecondDistri = (A@B)+(A@C)\n",
    "print(\"Result of A(B+C) is:\\n\",FirstDistri)\n",
    "print(\"Result of (AB)+(AC) is:\\n\",SecondDistri)\n",
    "print(\"Equality is:\", np.array_equal(FirstDistri,SecondDistri))\n",
    "print(\"\\n\")\n",
    "ThirdDistri = (B+C)@A\n",
    "FourthDistri = (B@A)+(C@A)\n",
    "print(\"Result of (B+C)A is:\\n\",ThirdDistri)\n",
    "print(\"Result of (BA)+(CA) is:\\n\",FourthDistri)\n",
    "print(\"Equality is:\", np.array_equal(ThirdDistri,FourthDistri))"
   ]
  },
  {
   "cell_type": "markdown",
   "metadata": {},
   "source": [
    "#### 4.) Multiplicative identity property"
   ]
  },
  {
   "cell_type": "code",
   "execution_count": 6,
   "metadata": {},
   "outputs": [
    {
     "name": "stdout",
     "output_type": "stream",
     "text": [
      "Result of AI is:\n",
      " [[3. 4. 5.]\n",
      " [2. 3. 3.]\n",
      " [3. 3. 4.]]\n",
      "Equality is: True\n",
      "\n",
      "\n",
      "Result of IA is:\n",
      " [[3. 4. 5.]\n",
      " [2. 3. 3.]\n",
      " [3. 3. 4.]]\n",
      "Equality is: True\n"
     ]
    }
   ],
   "source": [
    "FirstIden = A@I\n",
    "SecondIden = I@A\n",
    "print(\"Result of AI is:\\n\",FirstIden)\n",
    "print(\"Equality is:\", np.array_equal(FirstIden,A))\n",
    "print(\"\\n\")\n",
    "print(\"Result of IA is:\\n\",SecondIden)\n",
    "print(\"Equality is:\", np.array_equal(SecondIden,A))"
   ]
  },
  {
   "cell_type": "markdown",
   "metadata": {},
   "source": [
    "#### 5.) Multiplicative property of zero"
   ]
  },
  {
   "cell_type": "code",
   "execution_count": 7,
   "metadata": {},
   "outputs": [
    {
     "name": "stdout",
     "output_type": "stream",
     "text": [
      "Result of AO is:\n",
      " [[0. 0. 0.]\n",
      " [0. 0. 0.]\n",
      " [0. 0. 0.]]\n",
      "Result of OA is:\n",
      " [[0. 0. 0.]\n",
      " [0. 0. 0.]\n",
      " [0. 0. 0.]]\n"
     ]
    }
   ],
   "source": [
    "FirstZero = A@O\n",
    "SecondZero = O@A\n",
    "print(\"Result of AO is:\\n\",FirstZero)\n",
    "print(\"Result of OA is:\\n\",SecondZero)"
   ]
  },
  {
   "cell_type": "markdown",
   "metadata": {},
   "source": [
    "#### 6.) Dimension Property"
   ]
  },
  {
   "cell_type": "code",
   "execution_count": 8,
   "metadata": {},
   "outputs": [
    {
     "name": "stdout",
     "output_type": "stream",
     "text": [
      "The shape of Matrix D is: (3, 4)\n",
      "The shape of Matrix E is: (4, 3)\n",
      "The Shape of their product must be: ( 3 , 3 )\n",
      "[[ 49 119  94]\n",
      " [ 30  60  49]\n",
      " [ 47  57  42]]\n"
     ]
    }
   ],
   "source": [
    "FirstDimen = D@E\n",
    "print(\"The shape of Matrix D is:\", D.shape)\n",
    "print(\"The shape of Matrix E is:\", E.shape)\n",
    "print(\"The Shape of their product must be:\", \"(\", D.shape[0], \",\", E.shape[1], \")\")\n",
    "print(FirstDimen)"
   ]
  },
  {
   "cell_type": "code",
   "execution_count": null,
   "metadata": {},
   "outputs": [],
   "source": []
  }
 ],
 "metadata": {
  "kernelspec": {
   "display_name": "Python 3",
   "language": "python",
   "name": "python3"
  },
  "language_info": {
   "codemirror_mode": {
    "name": "ipython",
    "version": 3
   },
   "file_extension": ".py",
   "mimetype": "text/x-python",
   "name": "python",
   "nbconvert_exporter": "python",
   "pygments_lexer": "ipython3",
   "version": "3.8.3"
  }
 },
 "nbformat": 4,
 "nbformat_minor": 4
}
